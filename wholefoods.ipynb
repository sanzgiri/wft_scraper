{
  "nbformat": 4,
  "nbformat_minor": 0,
  "metadata": {
    "colab": {
      "name": "wholefoods.ipynb",
      "provenance": [],
      "authorship_tag": "ABX9TyPz0gUKcz3YF4+CD8MHFLKN",
      "include_colab_link": true
    },
    "kernelspec": {
      "name": "python3",
      "display_name": "Python 3"
    }
  },
  "cells": [
    {
      "cell_type": "markdown",
      "metadata": {
        "id": "view-in-github",
        "colab_type": "text"
      },
      "source": [
        "<a href=\"https://colab.research.google.com/github/sanzgiri/wft_scraper/blob/master/wholefoods.ipynb\" target=\"_parent\"><img src=\"https://colab.research.google.com/assets/colab-badge.svg\" alt=\"Open In Colab\"/></a>"
      ]
    },
    {
      "cell_type": "code",
      "metadata": {
        "id": "ON8_hU7v5dJI",
        "colab_type": "code",
        "colab": {}
      },
      "source": [
        "import pandas as pd\n",
        "import requests\n",
        "import urllib.parse\n",
        "import json"
      ],
      "execution_count": 37,
      "outputs": []
    },
    {
      "cell_type": "code",
      "metadata": {
        "id": "4qZvHJ_Y5Pdy",
        "colab_type": "code",
        "colab": {}
      },
      "source": [
        "store_id = 10327\n",
        "sort = \"relevance\"\n",
        "category = \"beauty\"\n",
        "subcategory = \"cosmetics\"\n",
        "\n",
        "category_dict = {\"ns\": \"category\", \"key\": category, \"value\": category}\n",
        "subcategory_dict = {\"ns\": \"subcategory\", \"key\": subcategory, \"value\": f\"{category}.{subcategory}\"}\n",
        "filters = [category_dict, subcategory_dict]\n",
        "enc_filters = urllib.parse.quote(str(filters)).replace(\"%27\",\"%22\")\n",
        "url = f\"https://products.wholefoodsmarket.com/api/search?sort={sort}&store={store_id}&skip=0&filters={enc_filters}\""
      ],
      "execution_count": 28,
      "outputs": []
    },
    {
      "cell_type": "code",
      "metadata": {
        "id": "ogM2R5VU6fP3",
        "colab_type": "code",
        "colab": {}
      },
      "source": [
        "response = requests.get(url)\n",
        "product_dict = json.loads(response.text)[\"list\"]\n",
        "df = pd.DataFrame.from_dict(product_dict)"
      ],
      "execution_count": 49,
      "outputs": []
    },
    {
      "cell_type": "code",
      "metadata": {
        "id": "w61DmpGD9ANL",
        "colab_type": "code",
        "colab": {
          "base_uri": "https://localhost:8080/",
          "height": 391
        },
        "outputId": "7f1d86a1-1841-4af8-acee-8444c869b2e0"
      },
      "source": [
        "df.head()"
      ],
      "execution_count": 50,
      "outputs": [
        {
          "output_type": "execute_result",
          "data": {
            "text/html": [
              "<div>\n",
              "<style scoped>\n",
              "    .dataframe tbody tr th:only-of-type {\n",
              "        vertical-align: middle;\n",
              "    }\n",
              "\n",
              "    .dataframe tbody tr th {\n",
              "        vertical-align: top;\n",
              "    }\n",
              "\n",
              "    .dataframe thead th {\n",
              "        text-align: right;\n",
              "    }\n",
              "</style>\n",
              "<table border=\"1\" class=\"dataframe\">\n",
              "  <thead>\n",
              "    <tr style=\"text-align: right;\">\n",
              "      <th></th>\n",
              "      <th>_id</th>\n",
              "      <th>asin</th>\n",
              "      <th>identifier</th>\n",
              "      <th>name</th>\n",
              "      <th>slug</th>\n",
              "      <th>image</th>\n",
              "      <th>servingInfo</th>\n",
              "      <th>categories</th>\n",
              "      <th>meta</th>\n",
              "      <th>store</th>\n",
              "    </tr>\n",
              "  </thead>\n",
              "  <tbody>\n",
              "    <tr>\n",
              "      <th>0</th>\n",
              "      <td>5eb9df6e82ae020c38587eb6</td>\n",
              "      <td>B00C5RM30G</td>\n",
              "      <td>84074900221</td>\n",
              "      <td>Nail Polish Remover, 6 fl oz</td>\n",
              "      <td>mineral-fusion-nail-polish-remover-587eb6</td>\n",
              "      <td>{'_id': '5e628b1c6e8f491944bb142e', 'source': ...</td>\n",
              "      <td>{'servingsPerContainer': None, 'totalSize': 6,...</td>\n",
              "      <td>[beauty, beauty.cosmetics]</td>\n",
              "      <td>{'brand': 'MINERAL FUSION', 'nameIsIngredient'...</td>\n",
              "      <td>{'available': True, 'price': 8.99, 'basePrice'...</td>\n",
              "    </tr>\n",
              "    <tr>\n",
              "      <th>1</th>\n",
              "      <td>5eb9e0a5fb741f0d61bc8f27</td>\n",
              "      <td>B07F9RFTLY</td>\n",
              "      <td>79285015799</td>\n",
              "      <td>Pomegranate Lip Balm, 0.15 oz</td>\n",
              "      <td>burts-bees-pomegranate-lip-balm-bc8f27</td>\n",
              "      <td>{'_id': '5e628b606c0f6f193d01ed29', 'source': ...</td>\n",
              "      <td>{'totalSize': 0.15, 'totalSizeUom': 'oz', 'sec...</td>\n",
              "      <td>[beauty, beauty.cosmetics]</td>\n",
              "      <td>{'brand': 'Burt's Bees', 'nameIsIngredient': F...</td>\n",
              "      <td>{'available': True, 'price': 3.99, 'basePrice'...</td>\n",
              "    </tr>\n",
              "    <tr>\n",
              "      <th>2</th>\n",
              "      <td>5eb9df6982ae020c38581fda</td>\n",
              "      <td>B00VTVSI9O</td>\n",
              "      <td>81783501108</td>\n",
              "      <td>Organic Whipped Shea Butter For Lips, 0.25 oz</td>\n",
              "      <td>evanhealy-organic-whipped-shea-butter-for-lips...</td>\n",
              "      <td>{'_id': '5da67caa3eb30c6a306c0749', 'source': ...</td>\n",
              "      <td>{'totalSize': 0.25, 'totalSizeUom': 'oz', 'sec...</td>\n",
              "      <td>[beauty, beauty.cosmetics]</td>\n",
              "      <td>{'brand': 'EVANHEALY', 'nameIsIngredient': Fal...</td>\n",
              "      <td>{'available': True, 'price': 9.99, 'basePrice'...</td>\n",
              "    </tr>\n",
              "    <tr>\n",
              "      <th>3</th>\n",
              "      <td>5eb9dcebfbf99909b9154b3a</td>\n",
              "      <td>B074H55FZM</td>\n",
              "      <td>9948243574</td>\n",
              "      <td>Organic Vanilla Honey Lip Balm, 0.15 oz</td>\n",
              "      <td>whole-foods-market-organic-vanilla-honey-lip-b...</td>\n",
              "      <td>{'_id': '5c1301073d4daf04b26568ed', 'source': ...</td>\n",
              "      <td>{'totalSize': 0.15, 'totalSizeUom': 'OUNCE', '...</td>\n",
              "      <td>[beauty, beauty.cosmetics]</td>\n",
              "      <td>{'brand': 'Whole Foods Market™', 'nameIsIngred...</td>\n",
              "      <td>{'available': True, 'price': 1.99, 'basePrice'...</td>\n",
              "    </tr>\n",
              "    <tr>\n",
              "      <th>4</th>\n",
              "      <td>5eb9dcebfbf99909b91558e2</td>\n",
              "      <td>B074H61RCR</td>\n",
              "      <td>9948243575</td>\n",
              "      <td>Organic Pomegranate Orange Lip Balm, 0.15 oz</td>\n",
              "      <td>whole-foods-market-organic-pomegranate-orange-...</td>\n",
              "      <td>{'_id': '5c1301093d4daf04b26568f1', 'source': ...</td>\n",
              "      <td>{'totalSize': 0.15, 'totalSizeUom': 'OUNCE', '...</td>\n",
              "      <td>[beauty, beauty.cosmetics]</td>\n",
              "      <td>{'brand': 'Whole Foods Market™', 'nameIsIngred...</td>\n",
              "      <td>{'available': True, 'price': 1.99, 'basePrice'...</td>\n",
              "    </tr>\n",
              "  </tbody>\n",
              "</table>\n",
              "</div>"
            ],
            "text/plain": [
              "                        _id  ...                                              store\n",
              "0  5eb9df6e82ae020c38587eb6  ...  {'available': True, 'price': 8.99, 'basePrice'...\n",
              "1  5eb9e0a5fb741f0d61bc8f27  ...  {'available': True, 'price': 3.99, 'basePrice'...\n",
              "2  5eb9df6982ae020c38581fda  ...  {'available': True, 'price': 9.99, 'basePrice'...\n",
              "3  5eb9dcebfbf99909b9154b3a  ...  {'available': True, 'price': 1.99, 'basePrice'...\n",
              "4  5eb9dcebfbf99909b91558e2  ...  {'available': True, 'price': 1.99, 'basePrice'...\n",
              "\n",
              "[5 rows x 10 columns]"
            ]
          },
          "metadata": {
            "tags": []
          },
          "execution_count": 50
        }
      ]
    },
    {
      "cell_type": "code",
      "metadata": {
        "id": "iVXXGfa5_15i",
        "colab_type": "code",
        "colab": {}
      },
      "source": [
        ""
      ],
      "execution_count": null,
      "outputs": []
    }
  ]
}