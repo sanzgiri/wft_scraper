{
  "nbformat": 4,
  "nbformat_minor": 0,
  "metadata": {
    "colab": {
      "name": "wholefoods.ipynb",
      "provenance": [],
      "collapsed_sections": [],
      "authorship_tag": "ABX9TyO10t2BxSqKEdRKYUdrgcCj",
      "include_colab_link": true
    },
    "kernelspec": {
      "name": "python3",
      "display_name": "Python 3"
    }
  },
  "cells": [
    {
      "cell_type": "markdown",
      "metadata": {
        "id": "view-in-github",
        "colab_type": "text"
      },
      "source": [
        "<a href=\"https://colab.research.google.com/github/sanzgiri/wft_scraper/blob/master/wholefoods.ipynb\" target=\"_parent\"><img src=\"https://colab.research.google.com/assets/colab-badge.svg\" alt=\"Open In Colab\"/></a>"
      ]
    },
    {
      "cell_type": "code",
      "metadata": {
        "id": "HhM4DtQIyMMv",
        "outputId": "1af03e6d-4983-4026-8028-050a8927aeb7",
        "colab": {
          "base_uri": "https://localhost:8080/"
        }
      },
      "source": [
        "#!pip install census us"
      ],
      "execution_count": 108,
      "outputs": [
        {
          "output_type": "stream",
          "text": [
            "Requirement already satisfied: census in /usr/local/lib/python3.6/dist-packages (0.8.17)\n",
            "Requirement already satisfied: us in /usr/local/lib/python3.6/dist-packages (2.0.2)\n",
            "Requirement already satisfied: requests>=1.1.0 in /usr/local/lib/python3.6/dist-packages (from census) (2.23.0)\n",
            "Requirement already satisfied: jellyfish==0.6.1 in /usr/local/lib/python3.6/dist-packages (from us) (0.6.1)\n",
            "Requirement already satisfied: urllib3!=1.25.0,!=1.25.1,<1.26,>=1.21.1 in /usr/local/lib/python3.6/dist-packages (from requests>=1.1.0->census) (1.24.3)\n",
            "Requirement already satisfied: chardet<4,>=3.0.2 in /usr/local/lib/python3.6/dist-packages (from requests>=1.1.0->census) (3.0.4)\n",
            "Requirement already satisfied: certifi>=2017.4.17 in /usr/local/lib/python3.6/dist-packages (from requests>=1.1.0->census) (2020.12.5)\n",
            "Requirement already satisfied: idna<3,>=2.5 in /usr/local/lib/python3.6/dist-packages (from requests>=1.1.0->census) (2.10)\n"
          ],
          "name": "stdout"
        }
      ]
    },
    {
      "cell_type": "code",
      "metadata": {
        "id": "ON8_hU7v5dJI"
      },
      "source": [
        "import pandas as pd\n",
        "import requests\n",
        "import urllib.parse\n",
        "import json\n",
        "import re\n",
        "import census us"
      ],
      "execution_count": 109,
      "outputs": []
    },
    {
      "cell_type": "code",
      "metadata": {
        "id": "4qZvHJ_Y5Pdy",
        "colab": {
          "base_uri": "https://localhost:8080/"
        },
        "outputId": "00464c64-203b-4915-c574-45e11386d5d9"
      },
      "source": [
        "store_id = 'englewood' ### Get this by changeing zipcode in product search and looking for store in the URL\n",
        "sort = \"relevance\" ### Other options are \"price\" and \"brand\"\n",
        "category = \"beauty\"\n",
        "subcategory = \"cosmetics\"\n",
        "\n",
        "category_dict = {\"ns\": \"category\", \"key\": category, \"value\": category}\n",
        "subcategory_dict = {\"ns\": \"subcategory\", \"key\": subcategory, \"value\": f\"{category}.{subcategory}\"}\n",
        "filters = [category_dict, subcategory_dict]\n",
        "enc_filters = urllib.parse.quote(str(filters)).replace(\"%27\",\"%22\")\n",
        "url = f\"https://products.wholefoodsmarket.com/api/search?sort={sort}&store={store_id}&skip=0&filters={enc_filters}\"\n",
        "print(url)"
      ],
      "execution_count": 153,
      "outputs": [
        {
          "output_type": "stream",
          "text": [
            "https://products.wholefoodsmarket.com/api/search?sort=relevance&store=englewood&skip=0&filters=%5B%7B%22ns%22%3A%20%22category%22%2C%20%22key%22%3A%20%22beauty%22%2C%20%22value%22%3A%20%22beauty%22%7D%2C%20%7B%22ns%22%3A%20%22subcategory%22%2C%20%22key%22%3A%20%22cosmetics%22%2C%20%22value%22%3A%20%22beauty.cosmetics%22%7D%5D\n"
          ],
          "name": "stdout"
        }
      ]
    },
    {
      "cell_type": "code",
      "metadata": {
        "id": "ogM2R5VU6fP3"
      },
      "source": [
        "response = requests.get(url)\n",
        "product_dict = json.loads(response.text)[\"list\"]\n",
        "df_products = pd.DataFrame.from_dict(product_dict)"
      ],
      "execution_count": 154,
      "outputs": []
    },
    {
      "cell_type": "code",
      "metadata": {
        "id": "w61DmpGD9ANL",
        "colab": {
          "base_uri": "https://localhost:8080/",
          "height": 374
        },
        "outputId": "84e0169b-af82-4896-c439-1721e4a02090"
      },
      "source": [
        "df_products.head()"
      ],
      "execution_count": 155,
      "outputs": [
        {
          "output_type": "execute_result",
          "data": {
            "text/html": [
              "<div>\n",
              "<style scoped>\n",
              "    .dataframe tbody tr th:only-of-type {\n",
              "        vertical-align: middle;\n",
              "    }\n",
              "\n",
              "    .dataframe tbody tr th {\n",
              "        vertical-align: top;\n",
              "    }\n",
              "\n",
              "    .dataframe thead th {\n",
              "        text-align: right;\n",
              "    }\n",
              "</style>\n",
              "<table border=\"1\" class=\"dataframe\">\n",
              "  <thead>\n",
              "    <tr style=\"text-align: right;\">\n",
              "      <th></th>\n",
              "      <th>_id</th>\n",
              "      <th>asin</th>\n",
              "      <th>identifier</th>\n",
              "      <th>name</th>\n",
              "      <th>slug</th>\n",
              "      <th>image</th>\n",
              "      <th>servingInfo</th>\n",
              "      <th>categories</th>\n",
              "      <th>meta</th>\n",
              "      <th>store</th>\n",
              "    </tr>\n",
              "  </thead>\n",
              "  <tbody>\n",
              "    <tr>\n",
              "      <th>0</th>\n",
              "      <td>5eb9e0a5fb741f0d61bc8f2d</td>\n",
              "      <td>B00012NDH4</td>\n",
              "      <td>79285011099</td>\n",
              "      <td>Beeswax Lip Balm Tube, 0.15 oz</td>\n",
              "      <td>burts-bees-beeswax-lip-balm-tube-bc8f2d</td>\n",
              "      <td>{'_id': '5e628b62dc1a30196bfc2e23', 'source': ...</td>\n",
              "      <td>{'totalSize': 0.15, 'totalSizeUom': 'oz', 'ser...</td>\n",
              "      <td>[beauty, beauty.cosmetics]</td>\n",
              "      <td>{'brand': 'Burt's Bees', 'nameIsIngredient': F...</td>\n",
              "      <td>None</td>\n",
              "    </tr>\n",
              "    <tr>\n",
              "      <th>1</th>\n",
              "      <td>5eb9df6e82ae020c38587eb6</td>\n",
              "      <td>B00C5RM30G</td>\n",
              "      <td>84074900221</td>\n",
              "      <td>Nail Polish Remover, 6 fl oz</td>\n",
              "      <td>mineral-fusion-nail-polish-remover-587eb6</td>\n",
              "      <td>{'_id': '5e628b1c6e8f491944bb142e', 'source': ...</td>\n",
              "      <td>{'servingsPerContainer': None, 'totalSize': 6,...</td>\n",
              "      <td>[beauty, beauty.cosmetics]</td>\n",
              "      <td>{'brand': 'MINERAL FUSION', 'nameIsIngredient'...</td>\n",
              "      <td>None</td>\n",
              "    </tr>\n",
              "    <tr>\n",
              "      <th>2</th>\n",
              "      <td>5fac7f6152fed6366dce7eae</td>\n",
              "      <td>B00VTVSI9O</td>\n",
              "      <td>81783501108</td>\n",
              "      <td>Whipped Shea Butter For Lips, 0.25 oz</td>\n",
              "      <td>evanhealy-whipped-shea-butter-for-lips-ce7eae</td>\n",
              "      <td>{'_id': '5fa87c34b49f8d5efac4df05', 'source': ...</td>\n",
              "      <td>{'totalSize': 0.25, 'totalSizeUom': 'oz', 'ser...</td>\n",
              "      <td>[beauty, beauty.cosmetics]</td>\n",
              "      <td>{'brand': 'EVANHEALY', 'nameIsIngredient': Fal...</td>\n",
              "      <td>None</td>\n",
              "    </tr>\n",
              "    <tr>\n",
              "      <th>3</th>\n",
              "      <td>5eb9e0a5fb741f0d61bc8f27</td>\n",
              "      <td>B000P0IDPY</td>\n",
              "      <td>79285015799</td>\n",
              "      <td>Pomegranate Lip Balm, 0.15 oz</td>\n",
              "      <td>burts-bees-pomegranate-lip-balm-bc8f27</td>\n",
              "      <td>{'_id': '5e628b606c0f6f193d01ed29', 'source': ...</td>\n",
              "      <td>{'totalSize': 0.15, 'totalSizeUom': 'oz', 'sec...</td>\n",
              "      <td>[beauty, beauty.cosmetics]</td>\n",
              "      <td>{'brand': 'Burt's Bees', 'nameIsIngredient': F...</td>\n",
              "      <td>None</td>\n",
              "    </tr>\n",
              "    <tr>\n",
              "      <th>4</th>\n",
              "      <td>5ebb1ad2fc937a3894b52609</td>\n",
              "      <td>B002HRS7ZY</td>\n",
              "      <td>4223959</td>\n",
              "      <td>Lip Care Stick, 0.17 oz</td>\n",
              "      <td>dr-hauschka-lip-care-stick-b52609</td>\n",
              "      <td>{'_id': '5e62881a6c0f6f193d01eab0', 'source': ...</td>\n",
              "      <td>{'totalSize': 0.17, 'totalSizeUom': 'oz', 'ser...</td>\n",
              "      <td>[beauty, beauty.cosmetics]</td>\n",
              "      <td>{'brand': 'DR HAUSCHKA', 'nameIsIngredient': F...</td>\n",
              "      <td>None</td>\n",
              "    </tr>\n",
              "  </tbody>\n",
              "</table>\n",
              "</div>"
            ],
            "text/plain": [
              "                        _id  ... store\n",
              "0  5eb9e0a5fb741f0d61bc8f2d  ...  None\n",
              "1  5eb9df6e82ae020c38587eb6  ...  None\n",
              "2  5fac7f6152fed6366dce7eae  ...  None\n",
              "3  5eb9e0a5fb741f0d61bc8f27  ...  None\n",
              "4  5ebb1ad2fc937a3894b52609  ...  None\n",
              "\n",
              "[5 rows x 10 columns]"
            ]
          },
          "metadata": {
            "tags": []
          },
          "execution_count": 155
        }
      ]
    },
    {
      "cell_type": "code",
      "metadata": {
        "id": "iVXXGfa5_15i"
      },
      "source": [
        "store_url = \"https://products.wholefoodsmarket.com/api/data/stores\"\n",
        "response = requests.get(store_url)\n",
        "store_dict = json.loads(response.text)\n",
        "df_store = pd.DataFrame.from_dict(store_dict)"
      ],
      "execution_count": 113,
      "outputs": []
    },
    {
      "cell_type": "code",
      "metadata": {
        "id": "X7C10ZBkckcN",
        "colab": {
          "base_uri": "https://localhost:8080/",
          "height": 1000
        },
        "outputId": "09959841-281a-45f4-ab88-1cebf58da2ce"
      },
      "source": [
        "df_store"
      ],
      "execution_count": 114,
      "outputs": [
        {
          "output_type": "execute_result",
          "data": {
            "text/html": [
              "<div>\n",
              "<style scoped>\n",
              "    .dataframe tbody tr th:only-of-type {\n",
              "        vertical-align: middle;\n",
              "    }\n",
              "\n",
              "    .dataframe tbody tr th {\n",
              "        vertical-align: top;\n",
              "    }\n",
              "\n",
              "    .dataframe thead th {\n",
              "        text-align: right;\n",
              "    }\n",
              "</style>\n",
              "<table border=\"1\" class=\"dataframe\">\n",
              "  <thead>\n",
              "    <tr style=\"text-align: right;\">\n",
              "      <th></th>\n",
              "      <th>state</th>\n",
              "      <th>list</th>\n",
              "    </tr>\n",
              "  </thead>\n",
              "  <tbody>\n",
              "    <tr>\n",
              "      <th>0</th>\n",
              "      <td>Alabama</td>\n",
              "      <td>[{'key': 10629, 'state': 'Alabama', 'city': 'H...</td>\n",
              "    </tr>\n",
              "    <tr>\n",
              "      <th>1</th>\n",
              "      <td>Arizona</td>\n",
              "      <td>[{'key': 10476, 'state': 'Arizona', 'city': 'P...</td>\n",
              "    </tr>\n",
              "    <tr>\n",
              "      <th>2</th>\n",
              "      <td>Arkansas</td>\n",
              "      <td>[{'key': 10551, 'state': 'Arkansas', 'city': '...</td>\n",
              "    </tr>\n",
              "    <tr>\n",
              "      <th>3</th>\n",
              "      <td>California</td>\n",
              "      <td>[{'key': 10396, 'state': 'California', 'city':...</td>\n",
              "    </tr>\n",
              "    <tr>\n",
              "      <th>4</th>\n",
              "      <td>Colorado</td>\n",
              "      <td>[{'key': 10218, 'state': 'Colorado', 'city': '...</td>\n",
              "    </tr>\n",
              "    <tr>\n",
              "      <th>5</th>\n",
              "      <td>Connecticut</td>\n",
              "      <td>[{'key': 10366, 'state': 'Connecticut', 'city'...</td>\n",
              "    </tr>\n",
              "    <tr>\n",
              "      <th>6</th>\n",
              "      <td>District of Columbia</td>\n",
              "      <td>[{'key': 10651, 'state': 'District of Columbia...</td>\n",
              "    </tr>\n",
              "    <tr>\n",
              "      <th>7</th>\n",
              "      <td>Florida</td>\n",
              "      <td>[{'key': 10715, 'state': 'Florida', 'city': 'F...</td>\n",
              "    </tr>\n",
              "    <tr>\n",
              "      <th>8</th>\n",
              "      <td>Georgia</td>\n",
              "      <td>[{'key': 10687, 'state': 'Georgia', 'city': 'D...</td>\n",
              "    </tr>\n",
              "    <tr>\n",
              "      <th>9</th>\n",
              "      <td>Hawaii</td>\n",
              "      <td>[{'key': 10363, 'state': 'Hawaii', 'city': 'Ho...</td>\n",
              "    </tr>\n",
              "    <tr>\n",
              "      <th>10</th>\n",
              "      <td>Idaho</td>\n",
              "      <td>[{'key': 10284, 'state': 'Idaho', 'city': 'Boi...</td>\n",
              "    </tr>\n",
              "    <tr>\n",
              "      <th>11</th>\n",
              "      <td>Illinois</td>\n",
              "      <td>[{'key': 10568, 'state': 'Illinois', 'city': '...</td>\n",
              "    </tr>\n",
              "    <tr>\n",
              "      <th>12</th>\n",
              "      <td>Indiana</td>\n",
              "      <td>[{'key': 10404, 'state': 'Indiana', 'city': 'C...</td>\n",
              "    </tr>\n",
              "    <tr>\n",
              "      <th>13</th>\n",
              "      <td>Iowa</td>\n",
              "      <td>[{'key': 10460, 'state': 'Iowa', 'city': 'West...</td>\n",
              "    </tr>\n",
              "    <tr>\n",
              "      <th>14</th>\n",
              "      <td>Kansas</td>\n",
              "      <td>[{'key': 10538, 'state': 'Kansas', 'city': 'Ol...</td>\n",
              "    </tr>\n",
              "    <tr>\n",
              "      <th>15</th>\n",
              "      <td>Kentucky</td>\n",
              "      <td>[{'key': 10577, 'state': 'Kentucky', 'city': '...</td>\n",
              "    </tr>\n",
              "    <tr>\n",
              "      <th>16</th>\n",
              "      <td>Louisiana</td>\n",
              "      <td>[{'key': 10528, 'state': 'Louisiana', 'city': ...</td>\n",
              "    </tr>\n",
              "    <tr>\n",
              "      <th>17</th>\n",
              "      <td>Maine</td>\n",
              "      <td>[{'key': 10291, 'state': 'Maine', 'city': 'Por...</td>\n",
              "    </tr>\n",
              "    <tr>\n",
              "      <th>18</th>\n",
              "      <td>Maryland</td>\n",
              "      <td>[{'key': 10228, 'state': 'Maryland', 'city': '...</td>\n",
              "    </tr>\n",
              "    <tr>\n",
              "      <th>19</th>\n",
              "      <td>Massachusetts</td>\n",
              "      <td>[{'key': 10371, 'state': 'Massachusetts', 'cit...</td>\n",
              "    </tr>\n",
              "    <tr>\n",
              "      <th>20</th>\n",
              "      <td>Michigan</td>\n",
              "      <td>[{'key': 10167, 'state': 'Michigan', 'city': '...</td>\n",
              "    </tr>\n",
              "    <tr>\n",
              "      <th>21</th>\n",
              "      <td>Minnesota</td>\n",
              "      <td>[{'key': 10419, 'state': 'Minnesota', 'city': ...</td>\n",
              "    </tr>\n",
              "    <tr>\n",
              "      <th>22</th>\n",
              "      <td>Mississippi</td>\n",
              "      <td>[{'key': 10486, 'state': 'Mississippi', 'city'...</td>\n",
              "    </tr>\n",
              "    <tr>\n",
              "      <th>23</th>\n",
              "      <td>Missouri</td>\n",
              "      <td>[{'key': 10535, 'state': 'Missouri', 'city': '...</td>\n",
              "    </tr>\n",
              "    <tr>\n",
              "      <th>24</th>\n",
              "      <td>Nebraska</td>\n",
              "      <td>[{'key': 10493, 'state': 'Nebraska', 'city': '...</td>\n",
              "    </tr>\n",
              "    <tr>\n",
              "      <th>25</th>\n",
              "      <td>Nevada</td>\n",
              "      <td>[{'key': 10174, 'state': 'Nevada', 'city': 'La...</td>\n",
              "    </tr>\n",
              "    <tr>\n",
              "      <th>26</th>\n",
              "      <td>New Hampshire</td>\n",
              "      <td>[{'key': 10617, 'state': 'New Hampshire', 'cit...</td>\n",
              "    </tr>\n",
              "    <tr>\n",
              "      <th>27</th>\n",
              "      <td>New Jersey</td>\n",
              "      <td>[{'key': 10639, 'state': 'New Jersey', 'city':...</td>\n",
              "    </tr>\n",
              "    <tr>\n",
              "      <th>28</th>\n",
              "      <td>New Mexico</td>\n",
              "      <td>[{'key': 10144, 'state': 'New Mexico', 'city':...</td>\n",
              "    </tr>\n",
              "    <tr>\n",
              "      <th>29</th>\n",
              "      <td>New York</td>\n",
              "      <td>[{'key': 10709, 'state': 'New York', 'city': '...</td>\n",
              "    </tr>\n",
              "    <tr>\n",
              "      <th>30</th>\n",
              "      <td>North Carolina</td>\n",
              "      <td>[{'key': 10351, 'state': 'North Carolina', 'ci...</td>\n",
              "    </tr>\n",
              "    <tr>\n",
              "      <th>31</th>\n",
              "      <td>Ohio</td>\n",
              "      <td>[{'key': 10673, 'state': 'Ohio', 'city': 'Akro...</td>\n",
              "    </tr>\n",
              "    <tr>\n",
              "      <th>32</th>\n",
              "      <td>Oklahoma</td>\n",
              "      <td>[{'key': 10304, 'state': 'Oklahoma', 'city': '...</td>\n",
              "    </tr>\n",
              "    <tr>\n",
              "      <th>33</th>\n",
              "      <td>Oregon</td>\n",
              "      <td>[{'key': 10654, 'state': 'Oregon', 'city': 'La...</td>\n",
              "    </tr>\n",
              "    <tr>\n",
              "      <th>34</th>\n",
              "      <td>Pennsylvania</td>\n",
              "      <td>[{'key': 10566, 'state': 'Pennsylvania', 'city...</td>\n",
              "    </tr>\n",
              "    <tr>\n",
              "      <th>35</th>\n",
              "      <td>Rhode Island</td>\n",
              "      <td>[{'key': 10254, 'state': 'Rhode Island', 'city...</td>\n",
              "    </tr>\n",
              "    <tr>\n",
              "      <th>36</th>\n",
              "      <td>South Carolina</td>\n",
              "      <td>[{'key': 10201, 'state': 'South Carolina', 'ci...</td>\n",
              "    </tr>\n",
              "    <tr>\n",
              "      <th>37</th>\n",
              "      <td>Tennessee</td>\n",
              "      <td>[{'key': 10409, 'state': 'Tennessee', 'city': ...</td>\n",
              "    </tr>\n",
              "    <tr>\n",
              "      <th>38</th>\n",
              "      <td>Texas</td>\n",
              "      <td>[{'key': 10665, 'state': 'Texas', 'city': 'Ced...</td>\n",
              "    </tr>\n",
              "    <tr>\n",
              "      <th>39</th>\n",
              "      <td>Utah</td>\n",
              "      <td>[{'key': 10646, 'state': 'Utah', 'city': 'Park...</td>\n",
              "    </tr>\n",
              "    <tr>\n",
              "      <th>40</th>\n",
              "      <td>Virginia</td>\n",
              "      <td>[{'key': 10042, 'state': 'Virginia', 'city': '...</td>\n",
              "    </tr>\n",
              "    <tr>\n",
              "      <th>41</th>\n",
              "      <td>Washington</td>\n",
              "      <td>[{'key': 10153, 'state': 'Washington', 'city':...</td>\n",
              "    </tr>\n",
              "    <tr>\n",
              "      <th>42</th>\n",
              "      <td>Wisconsin</td>\n",
              "      <td>[{'key': 10043, 'state': 'Wisconsin', 'city': ...</td>\n",
              "    </tr>\n",
              "  </tbody>\n",
              "</table>\n",
              "</div>"
            ],
            "text/plain": [
              "                   state                                               list\n",
              "0                Alabama  [{'key': 10629, 'state': 'Alabama', 'city': 'H...\n",
              "1                Arizona  [{'key': 10476, 'state': 'Arizona', 'city': 'P...\n",
              "2               Arkansas  [{'key': 10551, 'state': 'Arkansas', 'city': '...\n",
              "3             California  [{'key': 10396, 'state': 'California', 'city':...\n",
              "4               Colorado  [{'key': 10218, 'state': 'Colorado', 'city': '...\n",
              "5            Connecticut  [{'key': 10366, 'state': 'Connecticut', 'city'...\n",
              "6   District of Columbia  [{'key': 10651, 'state': 'District of Columbia...\n",
              "7                Florida  [{'key': 10715, 'state': 'Florida', 'city': 'F...\n",
              "8                Georgia  [{'key': 10687, 'state': 'Georgia', 'city': 'D...\n",
              "9                 Hawaii  [{'key': 10363, 'state': 'Hawaii', 'city': 'Ho...\n",
              "10                 Idaho  [{'key': 10284, 'state': 'Idaho', 'city': 'Boi...\n",
              "11              Illinois  [{'key': 10568, 'state': 'Illinois', 'city': '...\n",
              "12               Indiana  [{'key': 10404, 'state': 'Indiana', 'city': 'C...\n",
              "13                  Iowa  [{'key': 10460, 'state': 'Iowa', 'city': 'West...\n",
              "14                Kansas  [{'key': 10538, 'state': 'Kansas', 'city': 'Ol...\n",
              "15              Kentucky  [{'key': 10577, 'state': 'Kentucky', 'city': '...\n",
              "16             Louisiana  [{'key': 10528, 'state': 'Louisiana', 'city': ...\n",
              "17                 Maine  [{'key': 10291, 'state': 'Maine', 'city': 'Por...\n",
              "18              Maryland  [{'key': 10228, 'state': 'Maryland', 'city': '...\n",
              "19         Massachusetts  [{'key': 10371, 'state': 'Massachusetts', 'cit...\n",
              "20              Michigan  [{'key': 10167, 'state': 'Michigan', 'city': '...\n",
              "21             Minnesota  [{'key': 10419, 'state': 'Minnesota', 'city': ...\n",
              "22           Mississippi  [{'key': 10486, 'state': 'Mississippi', 'city'...\n",
              "23              Missouri  [{'key': 10535, 'state': 'Missouri', 'city': '...\n",
              "24              Nebraska  [{'key': 10493, 'state': 'Nebraska', 'city': '...\n",
              "25                Nevada  [{'key': 10174, 'state': 'Nevada', 'city': 'La...\n",
              "26         New Hampshire  [{'key': 10617, 'state': 'New Hampshire', 'cit...\n",
              "27            New Jersey  [{'key': 10639, 'state': 'New Jersey', 'city':...\n",
              "28            New Mexico  [{'key': 10144, 'state': 'New Mexico', 'city':...\n",
              "29              New York  [{'key': 10709, 'state': 'New York', 'city': '...\n",
              "30        North Carolina  [{'key': 10351, 'state': 'North Carolina', 'ci...\n",
              "31                  Ohio  [{'key': 10673, 'state': 'Ohio', 'city': 'Akro...\n",
              "32              Oklahoma  [{'key': 10304, 'state': 'Oklahoma', 'city': '...\n",
              "33                Oregon  [{'key': 10654, 'state': 'Oregon', 'city': 'La...\n",
              "34          Pennsylvania  [{'key': 10566, 'state': 'Pennsylvania', 'city...\n",
              "35          Rhode Island  [{'key': 10254, 'state': 'Rhode Island', 'city...\n",
              "36        South Carolina  [{'key': 10201, 'state': 'South Carolina', 'ci...\n",
              "37             Tennessee  [{'key': 10409, 'state': 'Tennessee', 'city': ...\n",
              "38                 Texas  [{'key': 10665, 'state': 'Texas', 'city': 'Ced...\n",
              "39                  Utah  [{'key': 10646, 'state': 'Utah', 'city': 'Park...\n",
              "40              Virginia  [{'key': 10042, 'state': 'Virginia', 'city': '...\n",
              "41            Washington  [{'key': 10153, 'state': 'Washington', 'city':...\n",
              "42             Wisconsin  [{'key': 10043, 'state': 'Wisconsin', 'city': ..."
            ]
          },
          "metadata": {
            "tags": []
          },
          "execution_count": 114
        }
      ]
    },
    {
      "cell_type": "code",
      "metadata": {
        "id": "lGp7D9j6clbr",
        "colab": {
          "base_uri": "https://localhost:8080/"
        },
        "outputId": "2cdac224-8d4d-48f0-9c05-573c46722100"
      },
      "source": [
        "df_store[df_store.state=='Oregon']['list'].iloc[0]"
      ],
      "execution_count": 115,
      "outputs": [
        {
          "output_type": "execute_result",
          "data": {
            "text/plain": [
              "[{'address': '11 S State St',\n",
              "  'city': 'Lake Oswego',\n",
              "  'folder': 'lakeoswego',\n",
              "  'isPrime': False,\n",
              "  'key': 10654,\n",
              "  'name': '365 Lake Oswego',\n",
              "  'state': 'Oregon',\n",
              "  'tlc': 'LKO',\n",
              "  'zip': '97034'},\n",
              " {'address': '2610 NE Hwy 20',\n",
              "  'city': 'Bend',\n",
              "  'folder': 'bend',\n",
              "  'isPrime': False,\n",
              "  'key': 10407,\n",
              "  'name': 'Bend',\n",
              "  'state': 'Oregon',\n",
              "  'tlc': 'BND',\n",
              "  'zip': '97701'},\n",
              " {'address': '7380 SW Bridgeport Rd',\n",
              "  'city': 'Tigard',\n",
              "  'folder': 'tigard',\n",
              "  'isPrime': False,\n",
              "  'key': 10266,\n",
              "  'name': 'Bridgeport',\n",
              "  'state': 'Oregon',\n",
              "  'tlc': 'BRD',\n",
              "  'zip': '97224'},\n",
              " {'address': '353 E Broadway',\n",
              "  'city': 'Eugene',\n",
              "  'folder': 'eugene',\n",
              "  'isPrime': False,\n",
              "  'key': 10294,\n",
              "  'name': 'Eugene',\n",
              "  'state': 'Oregon',\n",
              "  'tlc': 'EUG',\n",
              "  'zip': '97401'},\n",
              " {'address': '3535 NE 15th Ave',\n",
              "  'city': 'Portland',\n",
              "  'folder': 'fremont',\n",
              "  'isPrime': False,\n",
              "  'key': 10375,\n",
              "  'name': 'Fremont - Oregon',\n",
              "  'state': 'Oregon',\n",
              "  'tlc': 'FMT',\n",
              "  'zip': '97212'},\n",
              " {'address': '12220 SW Scholls Ferry Rd',\n",
              "  'city': 'Tigard',\n",
              "  'folder': 'greenway',\n",
              "  'isPrime': False,\n",
              "  'key': 10537,\n",
              "  'name': 'Greenway',\n",
              "  'state': 'Oregon',\n",
              "  'tlc': 'GNW',\n",
              "  'zip': '97223'},\n",
              " {'address': '4301 NE Sandy Blvd',\n",
              "  'city': 'Portland',\n",
              "  'folder': 'sandy',\n",
              "  'isPrime': False,\n",
              "  'key': 10243,\n",
              "  'name': 'Hollywood',\n",
              "  'state': 'Oregon',\n",
              "  'tlc': 'HWD',\n",
              "  'zip': '97213'},\n",
              " {'address': '2825 East Burnside St',\n",
              "  'city': 'Portland',\n",
              "  'folder': 'laurelhurst',\n",
              "  'isPrime': False,\n",
              "  'key': 10402,\n",
              "  'name': 'Laurelhurst',\n",
              "  'state': 'Oregon',\n",
              "  'tlc': 'LLH',\n",
              "  'zip': '97214'},\n",
              " {'address': '1210 NW Couch St',\n",
              "  'city': 'Portland',\n",
              "  'folder': 'pearl',\n",
              "  'isPrime': False,\n",
              "  'key': 10148,\n",
              "  'name': 'Pearl District Portland',\n",
              "  'state': 'Oregon',\n",
              "  'tlc': 'PRT',\n",
              "  'zip': '97209'},\n",
              " {'address': '9940 NE Cornell Rd',\n",
              "  'city': 'Hillsboro',\n",
              "  'folder': 'tanasbourne',\n",
              "  'isPrime': False,\n",
              "  'key': 10327,\n",
              "  'name': 'Tanasbourne',\n",
              "  'state': 'Oregon',\n",
              "  'tlc': 'TAN',\n",
              "  'zip': '97124'}]"
            ]
          },
          "metadata": {
            "tags": []
          },
          "execution_count": 115
        }
      ]
    },
    {
      "cell_type": "code",
      "metadata": {
        "id": "JoKIsKsCcta1",
        "colab": {
          "base_uri": "https://localhost:8080/"
        },
        "outputId": "eed5e040-c445-4ee7-f185-013f1952bb6d"
      },
      "source": [
        "df_store.state.nunique()"
      ],
      "execution_count": 116,
      "outputs": [
        {
          "output_type": "execute_result",
          "data": {
            "text/plain": [
              "43"
            ]
          },
          "metadata": {
            "tags": []
          },
          "execution_count": 116
        }
      ]
    },
    {
      "cell_type": "code",
      "metadata": {
        "id": "juGJTIsQQQjU",
        "outputId": "6aca0f6a-5579-4968-f5c9-17cb21296747",
        "colab": {
          "base_uri": "https://localhost:8080/"
        }
      },
      "source": [
        "wf_states = list(df_store.state.unique())\n",
        "wf_states"
      ],
      "execution_count": 117,
      "outputs": [
        {
          "output_type": "execute_result",
          "data": {
            "text/plain": [
              "['Alabama',\n",
              " 'Arizona',\n",
              " 'Arkansas',\n",
              " 'California',\n",
              " 'Colorado',\n",
              " 'Connecticut',\n",
              " 'District of Columbia',\n",
              " 'Florida',\n",
              " 'Georgia',\n",
              " 'Hawaii',\n",
              " 'Idaho',\n",
              " 'Illinois',\n",
              " 'Indiana',\n",
              " 'Iowa',\n",
              " 'Kansas',\n",
              " 'Kentucky',\n",
              " 'Louisiana',\n",
              " 'Maine',\n",
              " 'Maryland',\n",
              " 'Massachusetts',\n",
              " 'Michigan',\n",
              " 'Minnesota',\n",
              " 'Mississippi',\n",
              " 'Missouri',\n",
              " 'Nebraska',\n",
              " 'Nevada',\n",
              " 'New Hampshire',\n",
              " 'New Jersey',\n",
              " 'New Mexico',\n",
              " 'New York',\n",
              " 'North Carolina',\n",
              " 'Ohio',\n",
              " 'Oklahoma',\n",
              " 'Oregon',\n",
              " 'Pennsylvania',\n",
              " 'Rhode Island',\n",
              " 'South Carolina',\n",
              " 'Tennessee',\n",
              " 'Texas',\n",
              " 'Utah',\n",
              " 'Virginia',\n",
              " 'Washington',\n",
              " 'Wisconsin']"
            ]
          },
          "metadata": {
            "tags": []
          },
          "execution_count": 117
        }
      ]
    },
    {
      "cell_type": "code",
      "metadata": {
        "id": "-1bWKMa9Q_mF",
        "outputId": "8ce7dcdb-c4ae-4bfc-9350-9b91d315aa9e",
        "colab": {
          "base_uri": "https://localhost:8080/"
        }
      },
      "source": [
        "wf_store_unflat = [df_store[df_store.state==x]['list'] for x in wf_states]\n",
        "wf_store_flat = [item for sublist in wf_store_unflat for item in sublist]\n",
        "wf_stores =  [item for sublist in wf_store_flat for item in sublist]\n",
        "len(wf_stores)"
      ],
      "execution_count": 118,
      "outputs": [
        {
          "output_type": "execute_result",
          "data": {
            "text/plain": [
              "507"
            ]
          },
          "metadata": {
            "tags": []
          },
          "execution_count": 118
        }
      ]
    },
    {
      "cell_type": "code",
      "metadata": {
        "id": "5sMUyH-FhF9x"
      },
      "source": [
        "zipcodes = [x['zip'] for x in wf_stores]\n",
        "# keep only first five digits of 5+4 style zip codes\n",
        "zipcodes = [re.match('(\\d\\d\\d\\d\\d)-?(\\d\\d\\d\\d)?', x).groups()[0] for x in zipcodes]"
      ],
      "execution_count": 138,
      "outputs": []
    },
    {
      "cell_type": "code",
      "metadata": {
        "id": "mDEU31jeZoJq"
      },
      "source": [
        "storename = [x['folder'] for x in wf_stores]\n",
        "storecode = [x['key'] for x in wf_stores]\n",
        "storename_dict = dict(zip(zipcodes, storename))\n",
        "storecode_dict = dict(zip(zipcodes, storecode))"
      ],
      "execution_count": 156,
      "outputs": []
    },
    {
      "cell_type": "code",
      "metadata": {
        "id": "OQxP3GqZVbSR",
        "outputId": "4806b1da-855a-46f7-9edc-ea3f5dc52b30",
        "colab": {
          "base_uri": "https://localhost:8080/",
          "height": 35
        }
      },
      "source": [
        "import re\n",
        "m = re.match('(\\d\\d\\d\\d\\d)-?(\\d\\d\\d\\d)?', zipcodes[0])\n",
        "m.groups()[0]"
      ],
      "execution_count": 132,
      "outputs": [
        {
          "output_type": "execute_result",
          "data": {
            "application/vnd.google.colaboratory.intrinsic+json": {
              "type": "string"
            },
            "text/plain": [
              "'35244'"
            ]
          },
          "metadata": {
            "tags": []
          },
          "execution_count": 132
        }
      ]
    },
    {
      "cell_type": "code",
      "metadata": {
        "id": "smrDVdkIh_AH"
      },
      "source": [
        "c = Census(\"c27c0e0c57a51e3bfef9c9da1fc8f137e3154114\")"
      ],
      "execution_count": 120,
      "outputs": []
    },
    {
      "cell_type": "code",
      "metadata": {
        "id": "6mfzcfZcVh9N"
      },
      "source": [
        "pop_cat_dict = {'Total_Pop': 'B01003_001E',\n",
        "                'Total_Race': 'B02001_001E',\n",
        "                'White': 'B02001_002E',\n",
        "                'Black': 'B02001_003E',\n",
        "                'Native': 'B02001_004E',\n",
        "                'Asian': 'B02001_005E',\n",
        "                'Pacific': 'B02001_006E',\n",
        "                'Other': 'B02001_007E',\n",
        "                'Asian_Indian': 'B02015_002E'}"
      ],
      "execution_count": 121,
      "outputs": []
    },
    {
      "cell_type": "code",
      "metadata": {
        "id": "XVoTa8UqW8un"
      },
      "source": [
        "def get_pop_cat(cat, zip):\n",
        "  cat_code = pop_cat_dict[cat]\n",
        "  return c.acs5.zipcode(cat_code, zip)[0][cat_code]"
      ],
      "execution_count": 122,
      "outputs": []
    },
    {
      "cell_type": "code",
      "metadata": {
        "id": "1gVPWN93YVkG"
      },
      "source": [
        "def get_pop(zip):\n",
        "  zip_dict = {}\n",
        "  for cat in pop_cat_dict.keys():\n",
        "    cat_code = pop_cat_dict[cat]\n",
        "    zip_dict[cat] =  c.acs5.zipcode(cat_code, zip)[0][cat_code]\n",
        "  return zip_dict\n"
      ],
      "execution_count": 123,
      "outputs": []
    },
    {
      "cell_type": "code",
      "metadata": {
        "id": "HpRhorzWZA-V",
        "outputId": "d95ab485-ab20-460f-d951-28c287e80897",
        "colab": {
          "base_uri": "https://localhost:8080/"
        }
      },
      "source": [
        "get_pop(97229)"
      ],
      "execution_count": 124,
      "outputs": [
        {
          "output_type": "execute_result",
          "data": {
            "text/plain": [
              "{'Asian': 16031.0,\n",
              " 'Asian_Indian': 5515.0,\n",
              " 'Black': 1092.0,\n",
              " 'Native': 152.0,\n",
              " 'Other': 1344.0,\n",
              " 'Pacific': 220.0,\n",
              " 'Total_Pop': 67339.0,\n",
              " 'Total_Race': 67339.0,\n",
              " 'White': 44846.0}"
            ]
          },
          "metadata": {
            "tags": []
          },
          "execution_count": 124
        }
      ]
    },
    {
      "cell_type": "code",
      "metadata": {
        "id": "g9vxW3W3X07V",
        "outputId": "b73d74d2-4698-455f-b88f-580406331421",
        "colab": {
          "base_uri": "https://localhost:8080/"
        }
      },
      "source": [
        "df = pd.DataFrame()\n",
        "cols = pop_cat_dict.keys()\n",
        "my_cats = ['White', 'Black', 'Native', 'Asian', 'Pacific', 'Other', 'Asian_Indian']\n",
        "for z in zipcodes:\n",
        "  try:\n",
        "    my_dict = get_pop(z)\n",
        "  except:\n",
        "    print(f\"Error getting data for zipcode {z}\")\n",
        "  dfi = pd.DataFrame.from_dict(my_dict, orient='index').T\n",
        "  dfi['zipcode'] = z\n",
        "  for m in my_cats:\n",
        "    my_col = m+'_pct'\n",
        "    dfi[my_col] = round(my_dict[m]*100./my_dict['Total_Race'], 2)\n",
        "  df = df.append(dfi)"
      ],
      "execution_count": 125,
      "outputs": [
        {
          "output_type": "stream",
          "text": [
            "Error getting data for zipcode 85750-1949\n",
            "Error getting data for zipcode 94538-1505\n",
            "Error getting data for zipcode 91360-3705\n",
            "Error getting data for zipcode 80123-2217\n",
            "Error getting data for zipcode 80920-3207\n",
            "Error getting data for zipcode 33624-1833\n",
            "Error getting data for zipcode 46545-1007\n",
            "Error getting data for zipcode 07701-5036\n",
            "Error getting data for zipcode 11753-2106\n",
            "Error getting data for zipcode 11249\n",
            "Error getting data for zipcode 29205-2084\n"
          ],
          "name": "stdout"
        }
      ]
    },
    {
      "cell_type": "code",
      "metadata": {
        "id": "RfTpe1bWUwTg",
        "outputId": "4979e672-5bc1-47a2-b311-da904e61a96e",
        "colab": {
          "base_uri": "https://localhost:8080/",
          "height": 204
        }
      },
      "source": [
        "df.head()"
      ],
      "execution_count": 126,
      "outputs": [
        {
          "output_type": "execute_result",
          "data": {
            "text/html": [
              "<div>\n",
              "<style scoped>\n",
              "    .dataframe tbody tr th:only-of-type {\n",
              "        vertical-align: middle;\n",
              "    }\n",
              "\n",
              "    .dataframe tbody tr th {\n",
              "        vertical-align: top;\n",
              "    }\n",
              "\n",
              "    .dataframe thead th {\n",
              "        text-align: right;\n",
              "    }\n",
              "</style>\n",
              "<table border=\"1\" class=\"dataframe\">\n",
              "  <thead>\n",
              "    <tr style=\"text-align: right;\">\n",
              "      <th></th>\n",
              "      <th>Total_Pop</th>\n",
              "      <th>Total_Race</th>\n",
              "      <th>White</th>\n",
              "      <th>Black</th>\n",
              "      <th>Native</th>\n",
              "      <th>Asian</th>\n",
              "      <th>Pacific</th>\n",
              "      <th>Other</th>\n",
              "      <th>Asian_Indian</th>\n",
              "      <th>zipcode</th>\n",
              "      <th>White_pct</th>\n",
              "      <th>Black_pct</th>\n",
              "      <th>Native_pct</th>\n",
              "      <th>Asian_pct</th>\n",
              "      <th>Pacific_pct</th>\n",
              "      <th>Other_pct</th>\n",
              "      <th>Asian_Indian_pct</th>\n",
              "    </tr>\n",
              "  </thead>\n",
              "  <tbody>\n",
              "    <tr>\n",
              "      <th>0</th>\n",
              "      <td>31930.0</td>\n",
              "      <td>31930.0</td>\n",
              "      <td>23111.0</td>\n",
              "      <td>5801.0</td>\n",
              "      <td>48.0</td>\n",
              "      <td>2278.0</td>\n",
              "      <td>0.0</td>\n",
              "      <td>156.0</td>\n",
              "      <td>960.0</td>\n",
              "      <td>35244</td>\n",
              "      <td>72.38</td>\n",
              "      <td>18.17</td>\n",
              "      <td>0.15</td>\n",
              "      <td>7.13</td>\n",
              "      <td>0.00</td>\n",
              "      <td>0.49</td>\n",
              "      <td>3.01</td>\n",
              "    </tr>\n",
              "    <tr>\n",
              "      <th>0</th>\n",
              "      <td>23724.0</td>\n",
              "      <td>23724.0</td>\n",
              "      <td>19866.0</td>\n",
              "      <td>2629.0</td>\n",
              "      <td>109.0</td>\n",
              "      <td>512.0</td>\n",
              "      <td>12.0</td>\n",
              "      <td>159.0</td>\n",
              "      <td>161.0</td>\n",
              "      <td>35801</td>\n",
              "      <td>83.74</td>\n",
              "      <td>11.08</td>\n",
              "      <td>0.46</td>\n",
              "      <td>2.16</td>\n",
              "      <td>0.05</td>\n",
              "      <td>0.67</td>\n",
              "      <td>0.68</td>\n",
              "    </tr>\n",
              "    <tr>\n",
              "      <th>0</th>\n",
              "      <td>35591.0</td>\n",
              "      <td>35591.0</td>\n",
              "      <td>23169.0</td>\n",
              "      <td>10786.0</td>\n",
              "      <td>42.0</td>\n",
              "      <td>747.0</td>\n",
              "      <td>0.0</td>\n",
              "      <td>345.0</td>\n",
              "      <td>188.0</td>\n",
              "      <td>36608</td>\n",
              "      <td>65.10</td>\n",
              "      <td>30.31</td>\n",
              "      <td>0.12</td>\n",
              "      <td>2.10</td>\n",
              "      <td>0.00</td>\n",
              "      <td>0.97</td>\n",
              "      <td>0.53</td>\n",
              "    </tr>\n",
              "    <tr>\n",
              "      <th>0</th>\n",
              "      <td>53841.0</td>\n",
              "      <td>53841.0</td>\n",
              "      <td>22584.0</td>\n",
              "      <td>26290.0</td>\n",
              "      <td>82.0</td>\n",
              "      <td>3153.0</td>\n",
              "      <td>0.0</td>\n",
              "      <td>277.0</td>\n",
              "      <td>775.0</td>\n",
              "      <td>36117</td>\n",
              "      <td>41.95</td>\n",
              "      <td>48.83</td>\n",
              "      <td>0.15</td>\n",
              "      <td>5.86</td>\n",
              "      <td>0.00</td>\n",
              "      <td>0.51</td>\n",
              "      <td>1.44</td>\n",
              "    </tr>\n",
              "    <tr>\n",
              "      <th>0</th>\n",
              "      <td>17259.0</td>\n",
              "      <td>17259.0</td>\n",
              "      <td>16012.0</td>\n",
              "      <td>593.0</td>\n",
              "      <td>0.0</td>\n",
              "      <td>451.0</td>\n",
              "      <td>24.0</td>\n",
              "      <td>99.0</td>\n",
              "      <td>98.0</td>\n",
              "      <td>35243</td>\n",
              "      <td>92.77</td>\n",
              "      <td>3.44</td>\n",
              "      <td>0.00</td>\n",
              "      <td>2.61</td>\n",
              "      <td>0.14</td>\n",
              "      <td>0.57</td>\n",
              "      <td>0.57</td>\n",
              "    </tr>\n",
              "  </tbody>\n",
              "</table>\n",
              "</div>"
            ],
            "text/plain": [
              "   Total_Pop  Total_Race    White  ...  Pacific_pct  Other_pct  Asian_Indian_pct\n",
              "0    31930.0     31930.0  23111.0  ...         0.00       0.49              3.01\n",
              "0    23724.0     23724.0  19866.0  ...         0.05       0.67              0.68\n",
              "0    35591.0     35591.0  23169.0  ...         0.00       0.97              0.53\n",
              "0    53841.0     53841.0  22584.0  ...         0.00       0.51              1.44\n",
              "0    17259.0     17259.0  16012.0  ...         0.14       0.57              0.57\n",
              "\n",
              "[5 rows x 17 columns]"
            ]
          },
          "metadata": {
            "tags": []
          },
          "execution_count": 126
        }
      ]
    },
    {
      "cell_type": "code",
      "metadata": {
        "id": "Lm1IYI-kdZpI",
        "outputId": "70540ccd-acbe-413d-f5dc-bba48d05261c",
        "colab": {
          "base_uri": "https://localhost:8080/",
          "height": 204
        }
      },
      "source": [
        "my_fcats = ['zipcode'] + [x+'_pct' for x in my_cats]\n",
        "df2 = df[my_fcats].copy()\n",
        "df2.head()"
      ],
      "execution_count": 139,
      "outputs": [
        {
          "output_type": "execute_result",
          "data": {
            "text/html": [
              "<div>\n",
              "<style scoped>\n",
              "    .dataframe tbody tr th:only-of-type {\n",
              "        vertical-align: middle;\n",
              "    }\n",
              "\n",
              "    .dataframe tbody tr th {\n",
              "        vertical-align: top;\n",
              "    }\n",
              "\n",
              "    .dataframe thead th {\n",
              "        text-align: right;\n",
              "    }\n",
              "</style>\n",
              "<table border=\"1\" class=\"dataframe\">\n",
              "  <thead>\n",
              "    <tr style=\"text-align: right;\">\n",
              "      <th></th>\n",
              "      <th>zipcode</th>\n",
              "      <th>White_pct</th>\n",
              "      <th>Black_pct</th>\n",
              "      <th>Native_pct</th>\n",
              "      <th>Asian_pct</th>\n",
              "      <th>Pacific_pct</th>\n",
              "      <th>Other_pct</th>\n",
              "      <th>Asian_Indian_pct</th>\n",
              "    </tr>\n",
              "  </thead>\n",
              "  <tbody>\n",
              "    <tr>\n",
              "      <th>0</th>\n",
              "      <td>35244</td>\n",
              "      <td>72.38</td>\n",
              "      <td>18.17</td>\n",
              "      <td>0.15</td>\n",
              "      <td>7.13</td>\n",
              "      <td>0.00</td>\n",
              "      <td>0.49</td>\n",
              "      <td>3.01</td>\n",
              "    </tr>\n",
              "    <tr>\n",
              "      <th>0</th>\n",
              "      <td>35801</td>\n",
              "      <td>83.74</td>\n",
              "      <td>11.08</td>\n",
              "      <td>0.46</td>\n",
              "      <td>2.16</td>\n",
              "      <td>0.05</td>\n",
              "      <td>0.67</td>\n",
              "      <td>0.68</td>\n",
              "    </tr>\n",
              "    <tr>\n",
              "      <th>0</th>\n",
              "      <td>36608</td>\n",
              "      <td>65.10</td>\n",
              "      <td>30.31</td>\n",
              "      <td>0.12</td>\n",
              "      <td>2.10</td>\n",
              "      <td>0.00</td>\n",
              "      <td>0.97</td>\n",
              "      <td>0.53</td>\n",
              "    </tr>\n",
              "    <tr>\n",
              "      <th>0</th>\n",
              "      <td>36117</td>\n",
              "      <td>41.95</td>\n",
              "      <td>48.83</td>\n",
              "      <td>0.15</td>\n",
              "      <td>5.86</td>\n",
              "      <td>0.00</td>\n",
              "      <td>0.51</td>\n",
              "      <td>1.44</td>\n",
              "    </tr>\n",
              "    <tr>\n",
              "      <th>0</th>\n",
              "      <td>35243</td>\n",
              "      <td>92.77</td>\n",
              "      <td>3.44</td>\n",
              "      <td>0.00</td>\n",
              "      <td>2.61</td>\n",
              "      <td>0.14</td>\n",
              "      <td>0.57</td>\n",
              "      <td>0.57</td>\n",
              "    </tr>\n",
              "  </tbody>\n",
              "</table>\n",
              "</div>"
            ],
            "text/plain": [
              "  zipcode  White_pct  Black_pct  ...  Pacific_pct  Other_pct  Asian_Indian_pct\n",
              "0   35244      72.38      18.17  ...         0.00       0.49              3.01\n",
              "0   35801      83.74      11.08  ...         0.05       0.67              0.68\n",
              "0   36608      65.10      30.31  ...         0.00       0.97              0.53\n",
              "0   36117      41.95      48.83  ...         0.00       0.51              1.44\n",
              "0   35243      92.77       3.44  ...         0.14       0.57              0.57\n",
              "\n",
              "[5 rows x 8 columns]"
            ]
          },
          "metadata": {
            "tags": []
          },
          "execution_count": 139
        }
      ]
    },
    {
      "cell_type": "code",
      "metadata": {
        "id": "64PcxR6vXMu6",
        "outputId": "10c0297c-1e57-4705-e1e1-20b8c3e090d0",
        "colab": {
          "base_uri": "https://localhost:8080/"
        }
      },
      "source": [
        "df2.sort_values(by='Black_pct', ascending=False)['zipcode'][:5]"
      ],
      "execution_count": 142,
      "outputs": [
        {
          "output_type": "execute_result",
          "data": {
            "text/plain": [
              "0    60621\n",
              "0    07088\n",
              "0    31404\n",
              "0    43219\n",
              "0    48201\n",
              "Name: zipcode, dtype: object"
            ]
          },
          "metadata": {
            "tags": []
          },
          "execution_count": 142
        }
      ]
    },
    {
      "cell_type": "code",
      "metadata": {
        "id": "WOUQp6EgW5AW"
      },
      "source": [
        "df2.to_csv('wf_zip_census.csv', index=None)"
      ],
      "execution_count": 141,
      "outputs": []
    },
    {
      "cell_type": "code",
      "metadata": {
        "id": "9hG2FYWliJyg",
        "outputId": "644686bf-3c80-4918-c115-ea82b729c66f",
        "colab": {
          "base_uri": "https://localhost:8080/"
        }
      },
      "source": [
        "# Total Pop\n",
        "c.acs5.zipcode('B01003_001E', 11249)"
      ],
      "execution_count": 128,
      "outputs": [
        {
          "output_type": "execute_result",
          "data": {
            "text/plain": [
              "[]"
            ]
          },
          "metadata": {
            "tags": []
          },
          "execution_count": 128
        }
      ]
    },
    {
      "cell_type": "code",
      "metadata": {
        "id": "wrE228ZniM23",
        "outputId": "88ae5491-4ff1-4ee1-8e40-d37bfa573566",
        "colab": {
          "base_uri": "https://localhost:8080/"
        }
      },
      "source": [
        "# Race Total\n",
        "c.acs5.zipcode('B02001_001E', 60608)"
      ],
      "execution_count": 57,
      "outputs": [
        {
          "output_type": "execute_result",
          "data": {
            "text/plain": [
              "[{'B02001_001E': 79205.0, 'zip code tabulation area': '60608'}]"
            ]
          },
          "metadata": {
            "tags": []
          },
          "execution_count": 57
        }
      ]
    },
    {
      "cell_type": "code",
      "metadata": {
        "id": "JAES2L0Xmi2A",
        "outputId": "368a0a62-eced-4a97-e875-8825559535fe",
        "colab": {
          "base_uri": "https://localhost:8080/"
        }
      },
      "source": [
        "# White\n",
        "c.acs5.zipcode('B02001_002E', 60608)"
      ],
      "execution_count": 58,
      "outputs": [
        {
          "output_type": "execute_result",
          "data": {
            "text/plain": [
              "[{'B02001_002E': 35332.0, 'zip code tabulation area': '60608'}]"
            ]
          },
          "metadata": {
            "tags": []
          },
          "execution_count": 58
        }
      ]
    },
    {
      "cell_type": "code",
      "metadata": {
        "id": "UPwfnzaMmoVV",
        "outputId": "ca73cde3-0a36-4f96-9508-289415fe4125",
        "colab": {
          "base_uri": "https://localhost:8080/"
        }
      },
      "source": [
        "# Black\n",
        "c.acs5.zipcode('B02001_003E', 60608)"
      ],
      "execution_count": 59,
      "outputs": [
        {
          "output_type": "execute_result",
          "data": {
            "text/plain": [
              "[{'B02001_003E': 13982.0, 'zip code tabulation area': '60608'}]"
            ]
          },
          "metadata": {
            "tags": []
          },
          "execution_count": 59
        }
      ]
    },
    {
      "cell_type": "code",
      "metadata": {
        "id": "_ewuOXxFmrqB",
        "outputId": "0aba15b1-19ea-4e7b-fdef-cd3753d943fc",
        "colab": {
          "base_uri": "https://localhost:8080/"
        }
      },
      "source": [
        "# Native\n",
        "c.acs5.zipcode('B02001_004E', 60608)"
      ],
      "execution_count": 60,
      "outputs": [
        {
          "output_type": "execute_result",
          "data": {
            "text/plain": [
              "[{'B02001_004E': 369.0, 'zip code tabulation area': '60608'}]"
            ]
          },
          "metadata": {
            "tags": []
          },
          "execution_count": 60
        }
      ]
    },
    {
      "cell_type": "code",
      "metadata": {
        "id": "_5trDksFmvvI",
        "outputId": "18e17687-ba5c-445a-b737-f3fa160f17d8",
        "colab": {
          "base_uri": "https://localhost:8080/"
        }
      },
      "source": [
        "# Asian\n",
        "c.acs5.zipcode('B02001_005E', 60608)"
      ],
      "execution_count": 61,
      "outputs": [
        {
          "output_type": "execute_result",
          "data": {
            "text/plain": [
              "[{'B02001_005E': 9577.0, 'zip code tabulation area': '60608'}]"
            ]
          },
          "metadata": {
            "tags": []
          },
          "execution_count": 61
        }
      ]
    },
    {
      "cell_type": "code",
      "metadata": {
        "id": "DzgtnU1MoqCr",
        "outputId": "5ef4775e-e05f-4bf6-f9ef-3e9d3f68a080",
        "colab": {
          "base_uri": "https://localhost:8080/"
        }
      },
      "source": [
        "# Pacific\n",
        "c.acs5.zipcode('B02001_006E', 60608)"
      ],
      "execution_count": 67,
      "outputs": [
        {
          "output_type": "execute_result",
          "data": {
            "text/plain": [
              "[{'B02001_006E': 0.0, 'zip code tabulation area': '60608'}]"
            ]
          },
          "metadata": {
            "tags": []
          },
          "execution_count": 67
        }
      ]
    },
    {
      "cell_type": "code",
      "metadata": {
        "id": "OrPYZKuKmzfm",
        "outputId": "23b31c22-242d-4f9e-f4e5-f7e86591a246",
        "colab": {
          "base_uri": "https://localhost:8080/"
        }
      },
      "source": [
        "# Other\n",
        "c.acs5.zipcode('B02001_007E', 60608)"
      ],
      "execution_count": 68,
      "outputs": [
        {
          "output_type": "execute_result",
          "data": {
            "text/plain": [
              "[{'B02001_007E': 18321.0, 'zip code tabulation area': '60608'}]"
            ]
          },
          "metadata": {
            "tags": []
          },
          "execution_count": 68
        }
      ]
    },
    {
      "cell_type": "code",
      "metadata": {
        "id": "GuJQjyXtozfc",
        "outputId": "e3f99843-eab0-45e5-abf2-dfe5920558f3",
        "colab": {
          "base_uri": "https://localhost:8080/"
        }
      },
      "source": [
        "35332+13982+369+9577+0+18321"
      ],
      "execution_count": 69,
      "outputs": [
        {
          "output_type": "execute_result",
          "data": {
            "text/plain": [
              "77581"
            ]
          },
          "metadata": {
            "tags": []
          },
          "execution_count": 69
        }
      ]
    },
    {
      "cell_type": "code",
      "metadata": {
        "id": "GmqQxNzTm4vi",
        "outputId": "cd9ffc89-e2c4-4f2f-c2be-0f1a4abdb75d",
        "colab": {
          "base_uri": "https://localhost:8080/"
        }
      },
      "source": [
        "c.acs5.zipcode('B03002_012E', 60608)"
      ],
      "execution_count": 76,
      "outputs": [
        {
          "output_type": "execute_result",
          "data": {
            "text/plain": [
              "[{'B03002_012E': 40146.0, 'zip code tabulation area': '60608'}]"
            ]
          },
          "metadata": {
            "tags": []
          },
          "execution_count": 76
        }
      ]
    },
    {
      "cell_type": "code",
      "metadata": {
        "id": "F3BaogWHnbgo",
        "outputId": "fa1aba53-c4f3-4394-c690-9713fad5ecca",
        "colab": {
          "base_uri": "https://localhost:8080/"
        }
      },
      "source": [
        "#Asian Indian: B02015_002E\n",
        "c.acs5.zipcode('B02015_002E', 97005)"
      ],
      "execution_count": 74,
      "outputs": [
        {
          "output_type": "execute_result",
          "data": {
            "text/plain": [
              "[{'B02015_002E': 138.0, 'zip code tabulation area': '97005'}]"
            ]
          },
          "metadata": {
            "tags": []
          },
          "execution_count": 74
        }
      ]
    },
    {
      "cell_type": "code",
      "metadata": {
        "id": "DOgs13ubpL8r"
      },
      "source": [
        ""
      ],
      "execution_count": null,
      "outputs": []
    }
  ]
}